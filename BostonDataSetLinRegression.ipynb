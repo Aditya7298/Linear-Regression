{
  "nbformat": 4,
  "nbformat_minor": 0,
  "metadata": {
    "colab": {
      "name": "BostonDataSetLinRegression.ipynb",
      "version": "0.3.2",
      "provenance": [],
      "collapsed_sections": [],
      "include_colab_link": true
    },
    "kernelspec": {
      "name": "python3",
      "display_name": "Python 3"
    }
  },
  "cells": [
    {
      "cell_type": "markdown",
      "metadata": {
        "id": "view-in-github",
        "colab_type": "text"
      },
      "source": [
        "<a href=\"https://colab.research.google.com/github/Aditya7298/Linear-Regression/blob/master/BostonDataSetLinRegression.ipynb\" target=\"_parent\"><img src=\"https://colab.research.google.com/assets/colab-badge.svg\" alt=\"Open In Colab\"/></a>"
      ]
    },
    {
      "cell_type": "markdown",
      "metadata": {
        "id": "HVx95-bL2LBN",
        "colab_type": "text"
      },
      "source": [
        "## **This Notebook uses Linear Regression to predict Median House Prices using the Boston Housing Data Set**"
      ]
    },
    {
      "cell_type": "code",
      "metadata": {
        "id": "haivGlLr2WQQ",
        "colab_type": "code",
        "colab": {}
      },
      "source": [
        "import pandas as pd\n",
        "import matplotlib.pyplot as plt\n",
        "import numpy as np"
      ],
      "execution_count": 0,
      "outputs": []
    },
    {
      "cell_type": "markdown",
      "metadata": {
        "id": "sQF7RIG9GmFM",
        "colab_type": "text"
      },
      "source": [
        "**Loading Data and Displaying Data Description**"
      ]
    },
    {
      "cell_type": "code",
      "metadata": {
        "id": "evxjEdDoGeLb",
        "colab_type": "code",
        "colab": {
          "base_uri": "https://localhost:8080/",
          "height": 934
        },
        "outputId": "f65dd813-2e85-4968-917f-518d858484e1"
      },
      "source": [
        "from sklearn.datasets import load_boston\n",
        "boston_datasets = load_boston()\n",
        "print(boston_datasets['DESCR'])"
      ],
      "execution_count": 2,
      "outputs": [
        {
          "output_type": "stream",
          "text": [
            ".. _boston_dataset:\n",
            "\n",
            "Boston house prices dataset\n",
            "---------------------------\n",
            "\n",
            "**Data Set Characteristics:**  \n",
            "\n",
            "    :Number of Instances: 506 \n",
            "\n",
            "    :Number of Attributes: 13 numeric/categorical predictive. Median Value (attribute 14) is usually the target.\n",
            "\n",
            "    :Attribute Information (in order):\n",
            "        - CRIM     per capita crime rate by town\n",
            "        - ZN       proportion of residential land zoned for lots over 25,000 sq.ft.\n",
            "        - INDUS    proportion of non-retail business acres per town\n",
            "        - CHAS     Charles River dummy variable (= 1 if tract bounds river; 0 otherwise)\n",
            "        - NOX      nitric oxides concentration (parts per 10 million)\n",
            "        - RM       average number of rooms per dwelling\n",
            "        - AGE      proportion of owner-occupied units built prior to 1940\n",
            "        - DIS      weighted distances to five Boston employment centres\n",
            "        - RAD      index of accessibility to radial highways\n",
            "        - TAX      full-value property-tax rate per $10,000\n",
            "        - PTRATIO  pupil-teacher ratio by town\n",
            "        - B        1000(Bk - 0.63)^2 where Bk is the proportion of blacks by town\n",
            "        - LSTAT    % lower status of the population\n",
            "        - MEDV     Median value of owner-occupied homes in $1000's\n",
            "\n",
            "    :Missing Attribute Values: None\n",
            "\n",
            "    :Creator: Harrison, D. and Rubinfeld, D.L.\n",
            "\n",
            "This is a copy of UCI ML housing dataset.\n",
            "https://archive.ics.uci.edu/ml/machine-learning-databases/housing/\n",
            "\n",
            "\n",
            "This dataset was taken from the StatLib library which is maintained at Carnegie Mellon University.\n",
            "\n",
            "The Boston house-price data of Harrison, D. and Rubinfeld, D.L. 'Hedonic\n",
            "prices and the demand for clean air', J. Environ. Economics & Management,\n",
            "vol.5, 81-102, 1978.   Used in Belsley, Kuh & Welsch, 'Regression diagnostics\n",
            "...', Wiley, 1980.   N.B. Various transformations are used in the table on\n",
            "pages 244-261 of the latter.\n",
            "\n",
            "The Boston house-price data has been used in many machine learning papers that address regression\n",
            "problems.   \n",
            "     \n",
            ".. topic:: References\n",
            "\n",
            "   - Belsley, Kuh & Welsch, 'Regression diagnostics: Identifying Influential Data and Sources of Collinearity', Wiley, 1980. 244-261.\n",
            "   - Quinlan,R. (1993). Combining Instance-Based and Model-Based Learning. In Proceedings on the Tenth International Conference of Machine Learning, 236-243, University of Massachusetts, Amherst. Morgan Kaufmann.\n",
            "\n"
          ],
          "name": "stdout"
        }
      ]
    },
    {
      "cell_type": "markdown",
      "metadata": {
        "id": "aly_0k3CHR5u",
        "colab_type": "text"
      },
      "source": [
        "**Setting up data and displaying the first five tuples of Dataset**"
      ]
    },
    {
      "cell_type": "code",
      "metadata": {
        "id": "DDqaJqGKGreP",
        "colab_type": "code",
        "colab": {
          "base_uri": "https://localhost:8080/",
          "height": 195
        },
        "outputId": "3dcb7125-016e-47d7-b85e-696e5ba8d87b"
      },
      "source": [
        "boston_data = pd.DataFrame(boston_datasets['data'])\n",
        "boston_data.columns = boston_datasets['feature_names']\n",
        "target_values = pd.Series(boston_datasets['target'])\n",
        "data = boston_data.copy()\n",
        "data['MEDV'] = target_values\n",
        "(data.head())"
      ],
      "execution_count": 4,
      "outputs": [
        {
          "output_type": "execute_result",
          "data": {
            "text/html": [
              "<div>\n",
              "<style scoped>\n",
              "    .dataframe tbody tr th:only-of-type {\n",
              "        vertical-align: middle;\n",
              "    }\n",
              "\n",
              "    .dataframe tbody tr th {\n",
              "        vertical-align: top;\n",
              "    }\n",
              "\n",
              "    .dataframe thead th {\n",
              "        text-align: right;\n",
              "    }\n",
              "</style>\n",
              "<table border=\"1\" class=\"dataframe\">\n",
              "  <thead>\n",
              "    <tr style=\"text-align: right;\">\n",
              "      <th></th>\n",
              "      <th>CRIM</th>\n",
              "      <th>ZN</th>\n",
              "      <th>INDUS</th>\n",
              "      <th>CHAS</th>\n",
              "      <th>NOX</th>\n",
              "      <th>RM</th>\n",
              "      <th>AGE</th>\n",
              "      <th>DIS</th>\n",
              "      <th>RAD</th>\n",
              "      <th>TAX</th>\n",
              "      <th>PTRATIO</th>\n",
              "      <th>B</th>\n",
              "      <th>LSTAT</th>\n",
              "      <th>MEDV</th>\n",
              "    </tr>\n",
              "  </thead>\n",
              "  <tbody>\n",
              "    <tr>\n",
              "      <th>0</th>\n",
              "      <td>0.00632</td>\n",
              "      <td>18.0</td>\n",
              "      <td>2.31</td>\n",
              "      <td>0.0</td>\n",
              "      <td>0.538</td>\n",
              "      <td>6.575</td>\n",
              "      <td>65.2</td>\n",
              "      <td>4.0900</td>\n",
              "      <td>1.0</td>\n",
              "      <td>296.0</td>\n",
              "      <td>15.3</td>\n",
              "      <td>396.90</td>\n",
              "      <td>4.98</td>\n",
              "      <td>24.0</td>\n",
              "    </tr>\n",
              "    <tr>\n",
              "      <th>1</th>\n",
              "      <td>0.02731</td>\n",
              "      <td>0.0</td>\n",
              "      <td>7.07</td>\n",
              "      <td>0.0</td>\n",
              "      <td>0.469</td>\n",
              "      <td>6.421</td>\n",
              "      <td>78.9</td>\n",
              "      <td>4.9671</td>\n",
              "      <td>2.0</td>\n",
              "      <td>242.0</td>\n",
              "      <td>17.8</td>\n",
              "      <td>396.90</td>\n",
              "      <td>9.14</td>\n",
              "      <td>21.6</td>\n",
              "    </tr>\n",
              "    <tr>\n",
              "      <th>2</th>\n",
              "      <td>0.02729</td>\n",
              "      <td>0.0</td>\n",
              "      <td>7.07</td>\n",
              "      <td>0.0</td>\n",
              "      <td>0.469</td>\n",
              "      <td>7.185</td>\n",
              "      <td>61.1</td>\n",
              "      <td>4.9671</td>\n",
              "      <td>2.0</td>\n",
              "      <td>242.0</td>\n",
              "      <td>17.8</td>\n",
              "      <td>392.83</td>\n",
              "      <td>4.03</td>\n",
              "      <td>34.7</td>\n",
              "    </tr>\n",
              "    <tr>\n",
              "      <th>3</th>\n",
              "      <td>0.03237</td>\n",
              "      <td>0.0</td>\n",
              "      <td>2.18</td>\n",
              "      <td>0.0</td>\n",
              "      <td>0.458</td>\n",
              "      <td>6.998</td>\n",
              "      <td>45.8</td>\n",
              "      <td>6.0622</td>\n",
              "      <td>3.0</td>\n",
              "      <td>222.0</td>\n",
              "      <td>18.7</td>\n",
              "      <td>394.63</td>\n",
              "      <td>2.94</td>\n",
              "      <td>33.4</td>\n",
              "    </tr>\n",
              "    <tr>\n",
              "      <th>4</th>\n",
              "      <td>0.06905</td>\n",
              "      <td>0.0</td>\n",
              "      <td>2.18</td>\n",
              "      <td>0.0</td>\n",
              "      <td>0.458</td>\n",
              "      <td>7.147</td>\n",
              "      <td>54.2</td>\n",
              "      <td>6.0622</td>\n",
              "      <td>3.0</td>\n",
              "      <td>222.0</td>\n",
              "      <td>18.7</td>\n",
              "      <td>396.90</td>\n",
              "      <td>5.33</td>\n",
              "      <td>36.2</td>\n",
              "    </tr>\n",
              "  </tbody>\n",
              "</table>\n",
              "</div>"
            ],
            "text/plain": [
              "      CRIM    ZN  INDUS  CHAS    NOX  ...    TAX  PTRATIO       B  LSTAT  MEDV\n",
              "0  0.00632  18.0   2.31   0.0  0.538  ...  296.0     15.3  396.90   4.98  24.0\n",
              "1  0.02731   0.0   7.07   0.0  0.469  ...  242.0     17.8  396.90   9.14  21.6\n",
              "2  0.02729   0.0   7.07   0.0  0.469  ...  242.0     17.8  392.83   4.03  34.7\n",
              "3  0.03237   0.0   2.18   0.0  0.458  ...  222.0     18.7  394.63   2.94  33.4\n",
              "4  0.06905   0.0   2.18   0.0  0.458  ...  222.0     18.7  396.90   5.33  36.2\n",
              "\n",
              "[5 rows x 14 columns]"
            ]
          },
          "metadata": {
            "tags": []
          },
          "execution_count": 4
        }
      ]
    },
    {
      "cell_type": "markdown",
      "metadata": {
        "id": "VFXYdK36Hxbr",
        "colab_type": "text"
      },
      "source": [
        "**Using the Correlation values, we can see that the target label(MEDV) is highly positively correlated with 'RM'(Number of Rooms) and highly negatively correlated with 'LSTAT'(%Lower status of population) and Pupil Teacher Ratio**"
      ]
    },
    {
      "cell_type": "code",
      "metadata": {
        "id": "apdtYjXHHEk-",
        "colab_type": "code",
        "colab": {
          "base_uri": "https://localhost:8080/",
          "height": 281
        },
        "outputId": "1128a468-df1b-4c29-d68b-2f6f61d90f16"
      },
      "source": [
        "data.corr()['MEDV'].sort_values(ascending = True)"
      ],
      "execution_count": 5,
      "outputs": [
        {
          "output_type": "execute_result",
          "data": {
            "text/plain": [
              "LSTAT     -0.737663\n",
              "PTRATIO   -0.507787\n",
              "INDUS     -0.483725\n",
              "TAX       -0.468536\n",
              "NOX       -0.427321\n",
              "CRIM      -0.388305\n",
              "RAD       -0.381626\n",
              "AGE       -0.376955\n",
              "CHAS       0.175260\n",
              "DIS        0.249929\n",
              "B          0.333461\n",
              "ZN         0.360445\n",
              "RM         0.695360\n",
              "MEDV       1.000000\n",
              "Name: MEDV, dtype: float64"
            ]
          },
          "metadata": {
            "tags": []
          },
          "execution_count": 5
        }
      ]
    },
    {
      "cell_type": "markdown",
      "metadata": {
        "id": "H8Q02EFJIeb3",
        "colab_type": "text"
      },
      "source": [
        "**Observing the subplots, we can see that the Median Price of Houses varies linearly with the features - 'LSTAT' and 'RM' and we will select these 2 features to perform linear regression**"
      ]
    },
    {
      "cell_type": "code",
      "metadata": {
        "id": "lTeDFEUWHuQT",
        "colab_type": "code",
        "colab": {
          "base_uri": "https://localhost:8080/",
          "height": 350
        },
        "outputId": "7c85f869-c4fe-4723-c803-99113398a864"
      },
      "source": [
        "%matplotlib inline\n",
        "plt.figure(figsize = (20,5))\n",
        "\n",
        "features = ['LSTAT', 'PTRATIO', 'RM']\n",
        "\n",
        "for i in range(0,3):\n",
        "    x = np.array(data[features[i]])\n",
        "    y = np.array(data['MEDV'])\n",
        "    plt.subplot(1,3,i+1)\n",
        "    plt.scatter(x,y)\n",
        "    plt.title(features[i])\n",
        "    plt.xlabel(features[i])\n",
        "    plt.ylabel('Median Price')"
      ],
      "execution_count": 6,
      "outputs": [
        {
          "output_type": "display_data",
          "data": {
            "image/png": "[encoded data removed]",
            "text/plain": [
              "<Figure size 1440x360 with 3 Axes>"
            ]
          },
          "metadata": {
            "tags": []
          }
        }
      ]
    },
    {
      "cell_type": "markdown",
      "metadata": {
        "id": "emgKf9KgJEnU",
        "colab_type": "text"
      },
      "source": [
        "**Feature Normalization**"
      ]
    },
    {
      "cell_type": "code",
      "metadata": {
        "id": "7jAXUDunIZib",
        "colab_type": "code",
        "colab": {}
      },
      "source": [
        "data['LSTAT'] = data['LSTAT']/35\n",
        "data['RM'] = data['RM']/9"
      ],
      "execution_count": 0,
      "outputs": []
    },
    {
      "cell_type": "markdown",
      "metadata": {
        "id": "HlRBef14JXju",
        "colab_type": "text"
      },
      "source": [
        "**Converting data into np array and splitting it into test and train sets(20% of data is taken as test set)**"
      ]
    },
    {
      "cell_type": "code",
      "metadata": {
        "id": "K4EubI2iJCdW",
        "colab_type": "code",
        "colab": {}
      },
      "source": [
        "from sklearn import model_selection\n",
        "X = np.array(data[['LSTAT','RM']])\n",
        "Y = np.array(data['MEDV'])\n",
        "X_train, X_test, Y_train, Y_test = model_selection.train_test_split(X,Y,test_size = .2, random_state = 5)"
      ],
      "execution_count": 0,
      "outputs": []
    },
    {
      "cell_type": "markdown",
      "metadata": {
        "id": "XXldBLopKAIW",
        "colab_type": "text"
      },
      "source": [
        "**Training the Linear Regression Model**"
      ]
    },
    {
      "cell_type": "code",
      "metadata": {
        "id": "n7CkW2NvJVhQ",
        "colab_type": "code",
        "colab": {
          "base_uri": "https://localhost:8080/",
          "height": 34
        },
        "outputId": "a5f2f8cd-dff6-4237-d84f-60fee9aae1dc"
      },
      "source": [
        "from sklearn.linear_model import LinearRegression\n",
        "lin_model = LinearRegression()\n",
        "lin_model.fit(X_train,Y_train)"
      ],
      "execution_count": 9,
      "outputs": [
        {
          "output_type": "execute_result",
          "data": {
            "text/plain": [
              "LinearRegression(copy_X=True, fit_intercept=True, n_jobs=None, normalize=False)"
            ]
          },
          "metadata": {
            "tags": []
          },
          "execution_count": 9
        }
      ]
    },
    {
      "cell_type": "markdown",
      "metadata": {
        "id": "OcbBnIqCKgMY",
        "colab_type": "text"
      },
      "source": [
        "**Calculating the training and test accuracy**"
      ]
    },
    {
      "cell_type": "code",
      "metadata": {
        "id": "5HpIq_OOJ8BB",
        "colab_type": "code",
        "colab": {
          "base_uri": "https://localhost:8080/",
          "height": 52
        },
        "outputId": "a28a71c4-4e83-4aea-dce6-1ca3ff5fa104"
      },
      "source": [
        "from sklearn.metrics import r2_score\n",
        "Y_test_predict = lin_model.predict(X_test)\n",
        "Y_train_predict = lin_model.predict(X_train)\n",
        "error_test = r2_score(Y_test,Y_test_predict)\n",
        "error_train = r2_score(Y_train,Y_train_predict)\n",
        "print('Training Accuracy: ' + str(error_train*100))\n",
        "print('Test Accuracy: ' + str(error_test*100))"
      ],
      "execution_count": 12,
      "outputs": [
        {
          "output_type": "stream",
          "text": [
            "Training Accuracy: 63.007451493317014\n",
            "Test Accuracy: 66.28996975186952\n"
          ],
          "name": "stdout"
        }
      ]
    },
    {
      "cell_type": "markdown",
      "metadata": {
        "id": "6oFEQeiOKw2S",
        "colab_type": "text"
      },
      "source": [
        "**Displaying the True Median Values and the Predicted Values on the test set**"
      ]
    },
    {
      "cell_type": "code",
      "metadata": {
        "id": "cOTpkHP9KUJo",
        "colab_type": "code",
        "colab": {
          "base_uri": "https://localhost:8080/",
          "height": 1882
        },
        "outputId": "3976bbbf-a744-4505-802d-00d17730ace0"
      },
      "source": [
        "predicted_data_df = pd.DataFrame(Y_test)\n",
        "predicted_data_df['Predicted Data'] = pd.DataFrame(Y_test_predict)\n",
        "predicted_data_df\n",
        "predicted_data_df.columns = [['Real Value', 'Predicted Value']]\n",
        "predicted_data_df"
      ],
      "execution_count": 14,
      "outputs": [
        {
          "output_type": "execute_result",
          "data": {
            "text/html": [
              "<div>\n",
              "<style scoped>\n",
              "    .dataframe tbody tr th:only-of-type {\n",
              "        vertical-align: middle;\n",
              "    }\n",
              "\n",
              "    .dataframe tbody tr th {\n",
              "        vertical-align: top;\n",
              "    }\n",
              "\n",
              "    .dataframe thead tr th {\n",
              "        text-align: left;\n",
              "    }\n",
              "</style>\n",
              "<table border=\"1\" class=\"dataframe\">\n",
              "  <thead>\n",
              "    <tr>\n",
              "      <th></th>\n",
              "      <th>Real Value</th>\n",
              "      <th>Predicted Value</th>\n",
              "    </tr>\n",
              "  </thead>\n",
              "  <tbody>\n",
              "    <tr>\n",
              "      <th>0</th>\n",
              "      <td>37.6</td>\n",
              "      <td>37.389994</td>\n",
              "    </tr>\n",
              "    <tr>\n",
              "      <th>1</th>\n",
              "      <td>27.9</td>\n",
              "      <td>29.792906</td>\n",
              "    </tr>\n",
              "    <tr>\n",
              "      <th>2</th>\n",
              "      <td>22.6</td>\n",
              "      <td>25.867553</td>\n",
              "    </tr>\n",
              "    <tr>\n",
              "      <th>3</th>\n",
              "      <td>13.8</td>\n",
              "      <td>0.313708</td>\n",
              "    </tr>\n",
              "    <tr>\n",
              "      <th>4</th>\n",
              "      <td>35.2</td>\n",
              "      <td>33.313856</td>\n",
              "    </tr>\n",
              "    <tr>\n",
              "      <th>5</th>\n",
              "      <td>10.4</td>\n",
              "      <td>7.971361</td>\n",
              "    </tr>\n",
              "    <tr>\n",
              "      <th>6</th>\n",
              "      <td>23.9</td>\n",
              "      <td>30.706639</td>\n",
              "    </tr>\n",
              "    <tr>\n",
              "      <th>7</th>\n",
              "      <td>29.0</td>\n",
              "      <td>27.830768</td>\n",
              "    </tr>\n",
              "    <tr>\n",
              "      <th>8</th>\n",
              "      <td>22.8</td>\n",
              "      <td>26.266931</td>\n",
              "    </tr>\n",
              "    <tr>\n",
              "      <th>9</th>\n",
              "      <td>23.2</td>\n",
              "      <td>21.978717</td>\n",
              "    </tr>\n",
              "    <tr>\n",
              "      <th>10</th>\n",
              "      <td>33.2</td>\n",
              "      <td>32.331493</td>\n",
              "    </tr>\n",
              "    <tr>\n",
              "      <th>11</th>\n",
              "      <td>19.0</td>\n",
              "      <td>23.217914</td>\n",
              "    </tr>\n",
              "    <tr>\n",
              "      <th>12</th>\n",
              "      <td>20.3</td>\n",
              "      <td>22.993289</td>\n",
              "    </tr>\n",
              "    <tr>\n",
              "      <th>13</th>\n",
              "      <td>36.1</td>\n",
              "      <td>30.974654</td>\n",
              "    </tr>\n",
              "    <tr>\n",
              "      <th>14</th>\n",
              "      <td>24.4</td>\n",
              "      <td>27.197477</td>\n",
              "    </tr>\n",
              "    <tr>\n",
              "      <th>15</th>\n",
              "      <td>17.2</td>\n",
              "      <td>20.717154</td>\n",
              "    </tr>\n",
              "    <tr>\n",
              "      <th>16</th>\n",
              "      <td>17.9</td>\n",
              "      <td>-0.675250</td>\n",
              "    </tr>\n",
              "    <tr>\n",
              "      <th>17</th>\n",
              "      <td>19.6</td>\n",
              "      <td>18.012487</td>\n",
              "    </tr>\n",
              "    <tr>\n",
              "      <th>18</th>\n",
              "      <td>19.7</td>\n",
              "      <td>12.310811</td>\n",
              "    </tr>\n",
              "    <tr>\n",
              "      <th>19</th>\n",
              "      <td>15.0</td>\n",
              "      <td>21.906158</td>\n",
              "    </tr>\n",
              "    <tr>\n",
              "      <th>20</th>\n",
              "      <td>8.1</td>\n",
              "      <td>4.822622</td>\n",
              "    </tr>\n",
              "    <tr>\n",
              "      <th>21</th>\n",
              "      <td>23.0</td>\n",
              "      <td>24.004230</td>\n",
              "    </tr>\n",
              "    <tr>\n",
              "      <th>22</th>\n",
              "      <td>44.8</td>\n",
              "      <td>37.702794</td>\n",
              "    </tr>\n",
              "    <tr>\n",
              "      <th>23</th>\n",
              "      <td>23.1</td>\n",
              "      <td>24.595219</td>\n",
              "    </tr>\n",
              "    <tr>\n",
              "      <th>24</th>\n",
              "      <td>32.2</td>\n",
              "      <td>29.635573</td>\n",
              "    </tr>\n",
              "    <tr>\n",
              "      <th>25</th>\n",
              "      <td>10.8</td>\n",
              "      <td>12.539629</td>\n",
              "    </tr>\n",
              "    <tr>\n",
              "      <th>26</th>\n",
              "      <td>23.1</td>\n",
              "      <td>27.070813</td>\n",
              "    </tr>\n",
              "    <tr>\n",
              "      <th>27</th>\n",
              "      <td>21.2</td>\n",
              "      <td>22.444859</td>\n",
              "    </tr>\n",
              "    <tr>\n",
              "      <th>28</th>\n",
              "      <td>22.2</td>\n",
              "      <td>27.648953</td>\n",
              "    </tr>\n",
              "    <tr>\n",
              "      <th>29</th>\n",
              "      <td>24.1</td>\n",
              "      <td>28.992236</td>\n",
              "    </tr>\n",
              "    <tr>\n",
              "      <th>...</th>\n",
              "      <td>...</td>\n",
              "      <td>...</td>\n",
              "    </tr>\n",
              "    <tr>\n",
              "      <th>72</th>\n",
              "      <td>19.4</td>\n",
              "      <td>16.826875</td>\n",
              "    </tr>\n",
              "    <tr>\n",
              "      <th>73</th>\n",
              "      <td>27.5</td>\n",
              "      <td>19.995929</td>\n",
              "    </tr>\n",
              "    <tr>\n",
              "      <th>74</th>\n",
              "      <td>27.9</td>\n",
              "      <td>19.773536</td>\n",
              "    </tr>\n",
              "    <tr>\n",
              "      <th>75</th>\n",
              "      <td>30.1</td>\n",
              "      <td>30.386112</td>\n",
              "    </tr>\n",
              "    <tr>\n",
              "      <th>76</th>\n",
              "      <td>17.4</td>\n",
              "      <td>19.349274</td>\n",
              "    </tr>\n",
              "    <tr>\n",
              "      <th>77</th>\n",
              "      <td>15.4</td>\n",
              "      <td>13.038473</td>\n",
              "    </tr>\n",
              "    <tr>\n",
              "      <th>78</th>\n",
              "      <td>31.0</td>\n",
              "      <td>28.293856</td>\n",
              "    </tr>\n",
              "    <tr>\n",
              "      <th>79</th>\n",
              "      <td>14.2</td>\n",
              "      <td>19.039603</td>\n",
              "    </tr>\n",
              "    <tr>\n",
              "      <th>80</th>\n",
              "      <td>19.6</td>\n",
              "      <td>22.092796</td>\n",
              "    </tr>\n",
              "    <tr>\n",
              "      <th>81</th>\n",
              "      <td>50.0</td>\n",
              "      <td>38.791166</td>\n",
              "    </tr>\n",
              "    <tr>\n",
              "      <th>82</th>\n",
              "      <td>21.7</td>\n",
              "      <td>15.633484</td>\n",
              "    </tr>\n",
              "    <tr>\n",
              "      <th>83</th>\n",
              "      <td>11.7</td>\n",
              "      <td>20.346791</td>\n",
              "    </tr>\n",
              "    <tr>\n",
              "      <th>84</th>\n",
              "      <td>19.4</td>\n",
              "      <td>21.950600</td>\n",
              "    </tr>\n",
              "    <tr>\n",
              "      <th>85</th>\n",
              "      <td>13.0</td>\n",
              "      <td>18.336643</td>\n",
              "    </tr>\n",
              "    <tr>\n",
              "      <th>86</th>\n",
              "      <td>17.5</td>\n",
              "      <td>17.464378</td>\n",
              "    </tr>\n",
              "    <tr>\n",
              "      <th>87</th>\n",
              "      <td>9.7</td>\n",
              "      <td>7.429945</td>\n",
              "    </tr>\n",
              "    <tr>\n",
              "      <th>88</th>\n",
              "      <td>20.3</td>\n",
              "      <td>17.947883</td>\n",
              "    </tr>\n",
              "    <tr>\n",
              "      <th>89</th>\n",
              "      <td>18.6</td>\n",
              "      <td>24.152983</td>\n",
              "    </tr>\n",
              "    <tr>\n",
              "      <th>90</th>\n",
              "      <td>50.0</td>\n",
              "      <td>35.484069</td>\n",
              "    </tr>\n",
              "    <tr>\n",
              "      <th>91</th>\n",
              "      <td>19.6</td>\n",
              "      <td>20.192657</td>\n",
              "    </tr>\n",
              "    <tr>\n",
              "      <th>92</th>\n",
              "      <td>21.4</td>\n",
              "      <td>21.920661</td>\n",
              "    </tr>\n",
              "    <tr>\n",
              "      <th>93</th>\n",
              "      <td>18.4</td>\n",
              "      <td>19.378808</td>\n",
              "    </tr>\n",
              "    <tr>\n",
              "      <th>94</th>\n",
              "      <td>22.6</td>\n",
              "      <td>26.536372</td>\n",
              "    </tr>\n",
              "    <tr>\n",
              "      <th>95</th>\n",
              "      <td>25.0</td>\n",
              "      <td>28.830776</td>\n",
              "    </tr>\n",
              "    <tr>\n",
              "      <th>96</th>\n",
              "      <td>15.6</td>\n",
              "      <td>16.742106</td>\n",
              "    </tr>\n",
              "    <tr>\n",
              "      <th>97</th>\n",
              "      <td>26.6</td>\n",
              "      <td>30.357524</td>\n",
              "    </tr>\n",
              "    <tr>\n",
              "      <th>98</th>\n",
              "      <td>22.4</td>\n",
              "      <td>17.889629</td>\n",
              "    </tr>\n",
              "    <tr>\n",
              "      <th>99</th>\n",
              "      <td>13.1</td>\n",
              "      <td>15.355411</td>\n",
              "    </tr>\n",
              "    <tr>\n",
              "      <th>100</th>\n",
              "      <td>23.0</td>\n",
              "      <td>23.680157</td>\n",
              "    </tr>\n",
              "    <tr>\n",
              "      <th>101</th>\n",
              "      <td>24.5</td>\n",
              "      <td>25.431750</td>\n",
              "    </tr>\n",
              "  </tbody>\n",
              "</table>\n",
              "<p>102 rows × 2 columns</p>\n",
              "</div>"
            ],
            "text/plain": [
              "    Real Value Predicted Value\n",
              "0         37.6       37.389994\n",
              "1         27.9       29.792906\n",
              "2         22.6       25.867553\n",
              "3         13.8        0.313708\n",
              "4         35.2       33.313856\n",
              "5         10.4        7.971361\n",
              "6         23.9       30.706639\n",
              "7         29.0       27.830768\n",
              "8         22.8       26.266931\n",
              "9         23.2       21.978717\n",
              "10        33.2       32.331493\n",
              "11        19.0       23.217914\n",
              "12        20.3       22.993289\n",
              "13        36.1       30.974654\n",
              "14        24.4       27.197477\n",
              "15        17.2       20.717154\n",
              "16        17.9       -0.675250\n",
              "17        19.6       18.012487\n",
              "18        19.7       12.310811\n",
              "19        15.0       21.906158\n",
              "20         8.1        4.822622\n",
              "21        23.0       24.004230\n",
              "22        44.8       37.702794\n",
              "23        23.1       24.595219\n",
              "24        32.2       29.635573\n",
              "25        10.8       12.539629\n",
              "26        23.1       27.070813\n",
              "27        21.2       22.444859\n",
              "28        22.2       27.648953\n",
              "29        24.1       28.992236\n",
              "..         ...             ...\n",
              "72        19.4       16.826875\n",
              "73        27.5       19.995929\n",
              "74        27.9       19.773536\n",
              "75        30.1       30.386112\n",
              "76        17.4       19.349274\n",
              "77        15.4       13.038473\n",
              "78        31.0       28.293856\n",
              "79        14.2       19.039603\n",
              "80        19.6       22.092796\n",
              "81        50.0       38.791166\n",
              "82        21.7       15.633484\n",
              "83        11.7       20.346791\n",
              "84        19.4       21.950600\n",
              "85        13.0       18.336643\n",
              "86        17.5       17.464378\n",
              "87         9.7        7.429945\n",
              "88        20.3       17.947883\n",
              "89        18.6       24.152983\n",
              "90        50.0       35.484069\n",
              "91        19.6       20.192657\n",
              "92        21.4       21.920661\n",
              "93        18.4       19.378808\n",
              "94        22.6       26.536372\n",
              "95        25.0       28.830776\n",
              "96        15.6       16.742106\n",
              "97        26.6       30.357524\n",
              "98        22.4       17.889629\n",
              "99        13.1       15.355411\n",
              "100       23.0       23.680157\n",
              "101       24.5       25.431750\n",
              "\n",
              "[102 rows x 2 columns]"
            ]
          },
          "metadata": {
            "tags": []
          },
          "execution_count": 14
        }
      ]
    },
    {
      "cell_type": "code",
      "metadata": {
        "id": "zNb2DAglKp2n",
        "colab_type": "code",
        "colab": {}
      },
      "source": [
        ""
      ],
      "execution_count": 0,
      "outputs": []
    }
  ]
}